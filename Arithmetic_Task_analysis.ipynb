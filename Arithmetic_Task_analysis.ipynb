{
  "nbformat": 4,
  "nbformat_minor": 0,
  "metadata": {
    "colab": {
      "provenance": [],
      "toc_visible": true,
      "mount_file_id": "1nTNSIcQaNRkEC5Rkkn5H7qsYTEgW622H",
      "authorship_tag": "ABX9TyPYuBM3utaxIJ1FbPT57Skk",
      "include_colab_link": true
    },
    "kernelspec": {
      "name": "python3",
      "display_name": "Python 3"
    },
    "language_info": {
      "name": "python"
    }
  },
  "cells": [
    {
      "cell_type": "markdown",
      "metadata": {
        "id": "view-in-github",
        "colab_type": "text"
      },
      "source": [
        "<a href=\"https://colab.research.google.com/github/marcosfeandrade/EEG-Mental-Arithmetic-Task-analysis/blob/main/Arithmetic_Task_analysis.ipynb\" target=\"_parent\"><img src=\"https://colab.research.google.com/assets/colab-badge.svg\" alt=\"Open In Colab\"/></a>"
      ]
    },
    {
      "cell_type": "code",
      "execution_count": 66,
      "metadata": {
        "id": "oigZlPkLdlax"
      },
      "outputs": [],
      "source": [
        "import pandas as pd\n",
        "import matplotlib.pyplot as plt\n",
        "from google.colab import drive\n",
        "import os"
      ]
    },
    {
      "cell_type": "code",
      "source": [
        "# Montar o Google Drive\n",
        "drive.mount('/content/drive')\n",
        "\n",
        "# Caminho para a pasta do Google Drive onde os arquivos estão localizados\n",
        "caminho_drive = '/content/drive/My Drive/sua_pasta_no_drive/'"
      ],
      "metadata": {
        "id": "wONubKrweLe1",
        "colab": {
          "base_uri": "https://localhost:8080/"
        },
        "outputId": "b94257e1-a2a4-4382-8090-dfb568ef05b9"
      },
      "execution_count": 67,
      "outputs": [
        {
          "output_type": "stream",
          "name": "stdout",
          "text": [
            "Drive already mounted at /content/drive; to attempt to forcibly remount, call drive.mount(\"/content/drive\", force_remount=True).\n"
          ]
        }
      ]
    },
    {
      "cell_type": "code",
      "source": [
        "# Lista de canais\n",
        "canais = ['Fp1', 'Fp2', 'F3', 'F4', 'F7', 'F8', 'T3', 'T4', 'C3', 'C4', 'T5', 'T6', 'P3', 'P4', 'O1', 'O2', 'Fz', 'Cz', 'Pz']\n",
        "\n",
        "# Lista de indivíduos bons e ruins\n",
        "individuos_bons = [1, 2, 3, 5, 7, 8, 11, 12, 13, 15, 16, 17, 18, 20, 23, 24, 25, 26, 27, 28, 29, 31, 32, 33, 34, 35]\n",
        "individuos_ruins = [0, 4, 6, 9, 10, 14, 19, 21, 22, 30]\n",
        "\n",
        "# Lista para armazenar dados de todos os canais para indivíduos bons e ruins\n",
        "dados_bons = []\n",
        "dados_ruins = []"
      ],
      "metadata": {
        "id": "VNmP1ycQgeWk"
      },
      "execution_count": 68,
      "outputs": []
    },
    {
      "cell_type": "code",
      "source": [
        "# Diretório para salvar as imagens no Google Drive\n",
        "output_dir_base = caminho_drive + 'imagens_graficos/'\n",
        "os.makedirs(output_dir_base, exist_ok=True)  # Cria o diretório base se não existir\n",
        "\n",
        "# Criar subdiretórios\n",
        "subdiretorios = ['graficos_coletivos', 'graficos_individuais']\n",
        "for subdiretorio in subdiretorios:\n",
        "    output_dir = os.path.join(output_dir_base, subdiretorio)\n",
        "    os.makedirs(output_dir, exist_ok=True)  # Cria o subdiretório se não existir\n",
        "\n",
        "    # Criar subdiretórios para indivíduos bons e ruins\n",
        "    for categoria in ['bons', 'ruins']:\n",
        "        output_dir_categoria = os.path.join(output_dir, categoria)\n",
        "        os.makedirs(output_dir_categoria, exist_ok=True)  # Cria o subdiretório se não existir"
      ],
      "metadata": {
        "id": "mbI-Ue611U-R"
      },
      "execution_count": 69,
      "outputs": []
    },
    {
      "cell_type": "code",
      "source": [
        "# Iterar sobre todos os arquivos CSV no Google Drive\n",
        "for i in range(36):  # Assumindo que você tem 36 arquivos numerados de 00 a 35\n",
        "    numero_participante = f\"{i:02d}\"  # Formata o número do participante para ter dois dígitos (de 00 a 35)\n",
        "    nome_arquivo = caminho_drive + f's{numero_participante}.csv'  # Caminho completo do arquivo CSV para o participante atual\n",
        "    dados_participante = pd.read_csv(nome_arquivo, header=None)  # Lê os dados do arquivo CSV do participante atual\n",
        "\n",
        "    # Adiciona os dados do participante atual à lista correspondente\n",
        "    if i in individuos_bons:\n",
        "        dados_bons.append((dados_participante, numero_participante))\n",
        "    elif i in individuos_ruins:\n",
        "        dados_ruins.append((dados_participante, numero_participante))"
      ],
      "metadata": {
        "id": "HtQOldmTeNTD"
      },
      "execution_count": 70,
      "outputs": []
    },
    {
      "cell_type": "code",
      "source": [
        "# Função para criar gráfico para dados de indivíduos bons ou ruins\n",
        "def plotar_grafico(dados, titulo):\n",
        "    for indice, canal in enumerate(canais):\n",
        "        plt.figure(figsize=(12, 6))  # Tamanho do gráfico\n",
        "        for dados_participante, numero_participante in dados:\n",
        "            plt.plot(dados_participante.iloc[:3000, indice], label=f'Participante {numero_participante}')  # Dados do canal do participante atual\n",
        "\n",
        "        plt.title(f'{titulo} - Canal {canal}')  # Título do gráfico\n",
        "        plt.xlabel('Índice')  # Rótulo do eixo x\n",
        "        plt.ylabel('Valor')  # Rótulo do eixo y\n",
        "        plt.legend(loc='upper right')  # Adiciona a legenda no canto superior direito\n",
        "        plt.grid(True)  # Adicionar grade ao gráfico\n",
        "\n",
        "        # Decide automaticamente onde salvar o gráfico com base no título\n",
        "        if 'bons' in titulo.lower():\n",
        "            output_dir = os.path.join(output_dir_base, 'graficos_coletivos', 'bons')\n",
        "        elif 'ruins' in titulo.lower():\n",
        "            output_dir = os.path.join(output_dir_base, 'graficos_coletivos', 'ruins')\n",
        "        else:\n",
        "            output_dir = os.path.join(output_dir_base, 'graficos_individuais', 'outros')\n",
        "\n",
        "        # Salvar o gráfico como imagem\n",
        "        nome_arquivo_saida = os.path.join(output_dir, f'{titulo}_canal_{canal}.png')\n",
        "        plt.savefig(nome_arquivo_saida)\n",
        "        plt.close()  # Fecha a figura para liberar memória"
      ],
      "metadata": {
        "id": "VOH-gMzumcL8"
      },
      "execution_count": 74,
      "outputs": []
    },
    {
      "cell_type": "code",
      "source": [
        "# Função adicional para criar gráficos individuais para cada canal de todos os participantes bons ou ruins\n",
        "def plotar_graficos_individuais_todos(dados, titulo):\n",
        "    for numero_participante, (dados_participante, _) in enumerate(dados):\n",
        "        for indice, canal in enumerate(canais):\n",
        "            plt.figure(figsize=(12, 6))  # Tamanho do gráfico\n",
        "            plt.plot(dados_participante.iloc[:3000, indice])  # Dados do canal do participante atual\n",
        "\n",
        "            plt.title(f'{titulo} - Canal {canal} - Participante {numero_participante:02d}')  # Título do gráfico\n",
        "            plt.xlabel('Índice')  # Rótulo do eixo x\n",
        "            plt.ylabel('Valor')  # Rótulo do eixo y\n",
        "            plt.grid(True)  # Adicionar grade ao gráfico\n",
        "\n",
        "            # Decide automaticamente onde salvar o gráfico com base no título\n",
        "            if 'bons' in titulo.lower():\n",
        "                output_dir = os.path.join(output_dir_base, 'graficos_individuais', 'bons')\n",
        "            elif 'ruins' in titulo.lower():\n",
        "                output_dir = os.path.join(output_dir_base, 'graficos_individuais', 'ruins')\n",
        "            else:\n",
        "                output_dir = os.path.join(output_dir_base, 'graficos_individuais', 'outros')\n",
        "\n",
        "            # Salvar o gráfico como imagem\n",
        "            nome_arquivo_saida = os.path.join(output_dir, f'{titulo}_canal_{canal}_participante_{numero_participante:02d}.png')\n",
        "            plt.savefig(nome_arquivo_saida)\n",
        "            plt.close()  # Fecha a figura para liberar memória"
      ],
      "metadata": {
        "id": "Ctwbs-ufrWxI"
      },
      "execution_count": 78,
      "outputs": []
    },
    {
      "cell_type": "code",
      "source": [
        "# Criar gráficos para indivíduos bons e ruins\n",
        "plotar_grafico(dados_bons, 'Indivíduos_Bons')\n",
        "plotar_grafico(dados_ruins, 'Indivíduos_Ruins')"
      ],
      "metadata": {
        "id": "IOr69MuXmfxq"
      },
      "execution_count": 76,
      "outputs": []
    },
    {
      "cell_type": "code",
      "source": [
        "# Criar gráficos individuais para cada canal de todos os participantes bons e ruins\n",
        "plotar_graficos_individuais_todos(dados_bons, 'Indivíduos_Bons')\n",
        "plotar_graficos_individuais_todos(dados_ruins, 'Indivíduos_Ruins')"
      ],
      "metadata": {
        "id": "qTRL1T8Sn4NG"
      },
      "execution_count": 79,
      "outputs": []
    },
    {
      "cell_type": "code",
      "source": [
        "# # Criar gráficos individuais para cada canal de um participante específico\n",
        "# # Aqui, você deve substituir 'NUMERO_DO_PARTICIPANTE' pelo número do participante desejado, por exemplo, '01' para o participante 1\n",
        "# NUMERO_DO_PARTICIPANTE = 'NUMERO_DO_PARTICIPANTE'\n",
        "# dados_participante_especifico = next((dados for dados in dados_bons if dados[1] == NUMERO_DO_PARTICIPANTE), None)\n",
        "# if dados_participante_especifico:\n",
        "#     plotar_graficos_individuais_participante(dados_participante_especifico[0], NUMERO_DO_PARTICIPANTE, 'Indivíduo_Bom')\n",
        "# else:\n",
        "#     print(f\"Participante {NUMERO_DO_PARTICIPANTE} não encontrado nos dados dos indivíduos bons.\")"
      ],
      "metadata": {
        "id": "fZA2qLaOrh4c"
      },
      "execution_count": 80,
      "outputs": []
    },
    {
      "cell_type": "code",
      "source": [
        "from google.colab import drive\n",
        "drive.mount('/content/drive')"
      ],
      "metadata": {
        "colab": {
          "base_uri": "https://localhost:8080/"
        },
        "id": "WlEu_i0Fc5Nf",
        "outputId": "d410c41d-5472-44e9-b668-99c9aadd7e79"
      },
      "execution_count": 81,
      "outputs": [
        {
          "output_type": "stream",
          "name": "stdout",
          "text": [
            "Drive already mounted at /content/drive; to attempt to forcibly remount, call drive.mount(\"/content/drive\", force_remount=True).\n"
          ]
        }
      ]
    }
  ]
}